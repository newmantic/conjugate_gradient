{
  "nbformat": 4,
  "nbformat_minor": 0,
  "metadata": {
    "colab": {
      "provenance": [],
      "authorship_tag": "ABX9TyPFiijWWjaMHDftSyMe7To8",
      "include_colab_link": true
    },
    "kernelspec": {
      "name": "python3",
      "display_name": "Python 3"
    },
    "language_info": {
      "name": "python"
    }
  },
  "cells": [
    {
      "cell_type": "markdown",
      "metadata": {
        "id": "view-in-github",
        "colab_type": "text"
      },
      "source": [
        "<a href=\"https://colab.research.google.com/github/newmantic/conjugate_gradient/blob/main/conjugate_gradient.ipynb\" target=\"_parent\"><img src=\"https://colab.research.google.com/assets/colab-badge.svg\" alt=\"Open In Colab\"/></a>"
      ]
    },
    {
      "cell_type": "code",
      "execution_count": 1,
      "metadata": {
        "id": "lBapVaPH_vW0"
      },
      "outputs": [],
      "source": [
        "import numpy as np\n",
        "\n",
        "def conjugate_gradient(A, b, x0=None, tol=1e-10, max_iter=1000):\n",
        "    \"\"\"\n",
        "    Solve the system of linear equations Ax = b using the Conjugate Gradient method.\n",
        "\n",
        "    Parameters:\n",
        "    A : np.ndarray\n",
        "        Symmetric positive-definite matrix.\n",
        "    b : np.ndarray\n",
        "        Right-hand side vector.\n",
        "    x0 : np.ndarray\n",
        "        Initial guess (optional).\n",
        "    tol : float\n",
        "        Tolerance for convergence (optional).\n",
        "    max_iter : int\n",
        "        Maximum number of iterations (optional).\n",
        "\n",
        "    Returns:\n",
        "    x : np.ndarray\n",
        "        Approximate solution vector.\n",
        "    \"\"\"\n",
        "    n = len(b)\n",
        "    if x0 is None:\n",
        "        x0 = np.zeros(n)  # Initial guess\n",
        "    x = x0\n",
        "    r = b - A.dot(x)   # Residual\n",
        "    p = r.copy()       # Initial search direction\n",
        "    rsold = r.dot(r)   # Old residual norm squared\n",
        "\n",
        "    for i in range(max_iter):\n",
        "        Ap = A.dot(p)\n",
        "        alpha = rsold / p.dot(Ap)  # Step size\n",
        "        x = x + alpha * p           # Update solution\n",
        "        r = r - alpha * Ap          # Update residual\n",
        "        rsnew = r.dot(r)            # New residual norm squared\n",
        "\n",
        "        if np.sqrt(rsnew) < tol:    # Check for convergence\n",
        "            break\n",
        "\n",
        "        p = r + (rsnew / rsold) * p  # Update search direction\n",
        "        rsold = rsnew\n",
        "\n",
        "    return x\n"
      ]
    },
    {
      "cell_type": "code",
      "source": [
        "# Example test cases\n",
        "def test_conjugate_gradient():\n",
        "    # Example 1: Solve a simple system\n",
        "    A1 = np.array([[4, 1],\n",
        "                   [1, 3]])\n",
        "    b1 = np.array([1, 2])\n",
        "    solution1 = conjugate_gradient(A1, b1)\n",
        "    print(\"Example 1:\")\n",
        "    print(f\"Solution: {solution1}\")\n",
        "\n",
        "    # Example 2: Larger system\n",
        "    A2 = np.array([[4, 1, 0],\n",
        "                   [1, 4, 1],\n",
        "                   [0, 1, 3]])\n",
        "    b2 = np.array([1, 2, 3])\n",
        "    solution2 = conjugate_gradient(A2, b2)\n",
        "    print(\"Example 2:\")\n",
        "    print(f\"Solution: {solution2}\")\n",
        "\n",
        "    # Example 3: Large symmetric positive-definite matrix\n",
        "    size = 100\n",
        "    A3 = np.random.rand(size, size)\n",
        "    A3 = A3.T @ A3  # Make it symmetric positive definite\n",
        "    b3 = np.random.rand(size)\n",
        "    solution3 = conjugate_gradient(A3, b3)\n",
        "    print(\"Example 3:\")\n",
        "    print(f\"Solution found for large system: {solution3[:5]}...\")  # Show first 5 elements\n",
        "\n",
        "\n",
        "# Run the tests\n",
        "test_conjugate_gradient()"
      ],
      "metadata": {
        "colab": {
          "base_uri": "https://localhost:8080/"
        },
        "id": "jJU0CbXH_8Ry",
        "outputId": "e1ade55a-4639-460c-f730-a51eb1d0d5aa"
      },
      "execution_count": 2,
      "outputs": [
        {
          "output_type": "stream",
          "name": "stdout",
          "text": [
            "Example 1:\n",
            "Solution: [0.09090909 0.63636364]\n",
            "Example 2:\n",
            "Solution: [0.19512195 0.2195122  0.92682927]\n",
            "Example 3:\n",
            "Solution found for large system: [ -4.84064404 -10.23702664  -9.2413253   -8.8341844    3.28305324]...\n"
          ]
        }
      ]
    }
  ]
}